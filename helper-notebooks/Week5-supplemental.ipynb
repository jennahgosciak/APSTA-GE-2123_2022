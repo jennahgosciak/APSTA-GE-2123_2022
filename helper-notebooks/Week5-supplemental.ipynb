{
  "cells": [
    {
      "cell_type": "markdown",
      "metadata": {
        "id": "view-in-github",
        "colab_type": "text"
      },
      "source": [
        "<a href=\"https://colab.research.google.com/github/jennahgosciak/APSTA-GE-2123_2022/blob/main/helper-notebooks/Week5-supplemental.ipynb\" target=\"_parent\"><img src=\"https://colab.research.google.com/assets/colab-badge.svg\" alt=\"Open In Colab\"/></a>"
      ]
    },
    {
      "cell_type": "code",
      "execution_count": 1,
      "id": "6beea860-984e-402e-b389-aacee4ec52f6",
      "metadata": {
        "id": "6beea860-984e-402e-b389-aacee4ec52f6"
      },
      "outputs": [],
      "source": [
        "!pip install -q geopandas networkx"
      ]
    },
    {
      "cell_type": "code",
      "execution_count": 2,
      "id": "8eb8fd4e-da4f-4f7e-a764-84c69b478893",
      "metadata": {
        "id": "8eb8fd4e-da4f-4f7e-a764-84c69b478893"
      },
      "outputs": [],
      "source": [
        "%config InlineBackend.figure_formats = [\"svg\"]\n",
        "import base64\n",
        "import io\n",
        "import json\n",
        "import requests\n",
        "\n",
        "import pandas as pd; pd.set_option('display.max_rows', 500)\n",
        "import geopandas as gpd\n",
        "import matplotlib.pyplot as plt\n",
        "import networkx as nx\n",
        "\n",
        "from shapely import Point"
      ]
    },
    {
      "cell_type": "markdown",
      "id": "ccab8940-a621-4f63-acc3-06263f8b1d3a",
      "metadata": {
        "id": "ccab8940-a621-4f63-acc3-06263f8b1d3a"
      },
      "source": [
        "# Week 5: Supplemental Materials"
      ]
    },
    {
      "cell_type": "markdown",
      "id": "47a3e0d6-01ac-4a94-8af1-a594b813121c",
      "metadata": {
        "id": "47a3e0d6-01ac-4a94-8af1-a594b813121c"
      },
      "source": [
        "In this notebook, we will first load the SIPRI data and then cut it down considerably to avoid timeout errors when creating our own Google sheet. This may help you with creating your own Google sheet when creating a flow map with Flowmapblue."
      ]
    },
    {
      "cell_type": "markdown",
      "id": "11e55162",
      "metadata": {
        "id": "11e55162"
      },
      "source": [
        "## Data cleaning\n",
        "\n",
        "We'll start with preparing our data exactly as in the Week 5 lab."
      ]
    },
    {
      "cell_type": "markdown",
      "id": "1c90fc67",
      "metadata": {
        "id": "1c90fc67"
      },
      "source": [
        "**Note: We have received reports of errors in the next cell. Some of these errors are due to the fact that the SIPRI data may have gone offline. If you are encountering errors, you can use a backup version of the data.**\n",
        "\n",
        "Please set the following variable `download_raw_data` to `False` if you want to use a backup version of the data."
      ]
    },
    {
      "cell_type": "code",
      "execution_count": 3,
      "id": "fa6d56ca",
      "metadata": {
        "id": "fa6d56ca"
      },
      "outputs": [],
      "source": [
        "# set the following variable to false if using backup data\n",
        "download_raw_data=False"
      ]
    },
    {
      "cell_type": "code",
      "execution_count": 4,
      "id": "f3f8c05f-0f29-497c-863c-6464cafe6c56",
      "metadata": {
        "id": "f3f8c05f-0f29-497c-863c-6464cafe6c56"
      },
      "outputs": [],
      "source": [
        "# loading raw data\n",
        "if download_raw_data:\n",
        "    raw_data = requests.post(\n",
        "        \"https://github.com/PUBPOL-2130/notebooks/blob/main/data/sipri_arms_transfers.json\",\n",
        "        json={\"filters\": []},\n",
        "    ).json()"
      ]
    },
    {
      "cell_type": "code",
      "execution_count": 5,
      "id": "95b13bad-4900-4d74-8fb3-d582a0a60f76",
      "metadata": {
        "id": "95b13bad-4900-4d74-8fb3-d582a0a60f76"
      },
      "outputs": [],
      "source": [
        "# converting from base6\n",
        "if download_raw_data:\n",
        "    csv_lines = base64.b64decode(raw_data[\"bytes\"]).decode(\"iso-8859-1\").split(\"\\n\")\n",
        "    csv_lines[:15]"
      ]
    },
    {
      "cell_type": "code",
      "execution_count": 6,
      "id": "6ab9649f",
      "metadata": {
        "id": "6ab9649f"
      },
      "outputs": [],
      "source": [
        "if download_raw_data:\n",
        "    first_line_index = next(idx for idx, line in enumerate(csv_lines) if line.startswith(\"Recipient,\"))\n",
        "    first_line_index"
      ]
    },
    {
      "cell_type": "code",
      "execution_count": 7,
      "id": "8f89972d-2dda-4bdb-9116-ae97030205ce",
      "metadata": {
        "id": "8f89972d-2dda-4bdb-9116-ae97030205ce"
      },
      "outputs": [],
      "source": [
        "# setting up the data frame, saving locally\n",
        "if download_raw_data:\n",
        "    arms_df = pd.read_csv(io.StringIO(\"\\n\".join(csv_lines[first_line_index:])))\n",
        "    arms_df.to_csv(\"fulldata.csv\")\n",
        "    arms_df\n",
        "else:\n",
        "    arms_df = pd.read_json('https://github.com/PUBPOL-2130/notebooks/blob/main/data/sipri_arms_transfers.json?raw=true')\n",
        "    arms_df.to_csv(\"fulldata.csv\")\n",
        "    arms_df"
      ]
    },
    {
      "cell_type": "code",
      "execution_count": 8,
      "id": "eX5TufWIGWr-",
      "metadata": {
        "id": "eX5TufWIGWr-"
      },
      "outputs": [],
      "source": [
        "# data cleaning -- mapping transfers to general locations we can use\n",
        "capitals_map = {\n",
        "    \"ANC (South Africa)*\": \"South Africa\",\n",
        "    \"Anti-Castro rebels (Cuba)*\": \"Cuba\",\n",
        "    \"Amal (Lebanon)*\": \"Lebanon\",\n",
        "    \"Armas (Guatemala)*\": \"Guatemala\",\n",
        "    \"Contras (Nicaragua)*\": \"Nicaragua\",\n",
        "    \"Darfur rebels (Sudan)*\": \"Sudan\",\n",
        "    \"ELF (Ethiopia)*\": \"Ethiopia\",\n",
        "    \"EPLF (Ethiopia)*\": \"Ethiopia\",\n",
        "    \"FRELIMO (Portugal)*\": \"Portugal\",\n",
        "    \"Haiti rebels*\": \"Haiti\",\n",
        "    \"Hezbollah (Lebanon)*\": \"Lebanon\",\n",
        "    \"Houthi rebels (Yemen)*\": \"Yemen\",\n",
        "    \"Indonesia rebels*\": \"Indonesia\",\n",
        "    \"Khmer Rouge (Cambodia)*\": \"Cambodia\",\n",
        "    \"Kurdistan Regional Government (Iraq)*\": \"Iraq\",\n",
        "    \"LF (Lebanon)*\": \"Lebanon\",\n",
        "    \"LRA (Uganda)*\": \"Uganda\",\n",
        "    \"LTTE (Sri Lanka)*\": \"Sri Lanka\",\n",
        "    \"Libya GNC\": \"Libya\",\n",
        "    \"Libya HoR*\": \"Libya\",\n",
        "    \"Congo\": \"Congo (Brazzaville)\",\n",
        "    \"DR Congo\": \"Congo (Kinshasa)\",\n",
        "    \"MNLF (Philippines)*\": \"Philippines\",\n",
        "    \"MPLA (Portugal)*\": \"Portugal\",\n",
        "    \"MTA (Myanmar)*\": \"Myanmar\",\n",
        "    \"Micronesia\": \"Federated States of Micronesia\",\n",
        "    \"Mujahedin (Afghanistan)*\": \"Afghanistan\",\n",
        "    \"NLA (Macedonia)*\": \"North Macedonia\",\n",
        "    \"NTC (Libya)*\": \"Libya\",\n",
        "    \"Northern Alliance (Afghanistan)*\": \"Afghanistan\",\n",
        "    \"Northern Cyprus\": \"Cyprus\",\n",
        "    \"PAIGC (Portugal)*\": \"Portugal\",\n",
        "    \"PIJ (Israel/Palestine)*\": \"Israel\",\n",
        "    \"PKK (Turkiye)*\": \"Turkey\",\n",
        "    \"PLO (Israel)*\": \"Israel\",\n",
        "    \"PRC (Israel/Palestine)*\": \"Israel\",\n",
        "    \"Pathet Lao (Laos)*\": \"Laos\",\n",
        "    \"Provisional IRA (UK)*\": \"United Kingdom\",\n",
        "    \"RPF (Rwanda)*\": \"Rwanda\",\n",
        "    \"RUF (Sierra Leone)*\": \"United Kingdom\",\n",
        "    \"SLA (Lebanon)*\": \"Lebanon\",\n",
        "    \"SNA (Somalia)*\": \"Somalia\",\n",
        "    \"SPLA (Sudan)*\": \"Sudan\",\n",
        "    \"Southern rebels (Yemen)*\": \"Yemen\",\n",
        "    \"Syria rebels*\": \"Syria\",\n",
        "    \"Turkiye\": \"Turkey\",\n",
        "    \"UAE\": \"United Arab Emirates\",\n",
        "    \"UIC (Somalia)*\": \"Somalia\",\n",
        "    \"UNITA (Angola)*\": \"Angola\",\n",
        "    \"Ukraine Rebels*\": \"Ukraine\",\n",
        "    \"United States\": \"United States of America\",\n",
        "    \"United Wa State (Myanmar)*\": \"Myanmar\",\n",
        "    \"Viet Minh (France)*\": \"France\",\n",
        "    \"Viet Nam\": \"Vietnam\",\n",
        "    \"ZAPU (Zimbabwe)*\": \"Zimbabwe\",\n",
        "    \"GUNT (Chad)*\": \"Chad\",\n",
        "    \"FAN (Chad)*\": \"Chad\",\n",
        "    \"FMLN (El Salvador)*\": \"El Salvador\",\n",
        "    \"Gambia\": \"The Gambia\",\n",
        "    \"Lebanon Palestinian rebels*\": \"Lebanon\",\n",
        "    \"Cote d'Ivoire\": \"Ivory Coast\",\n",
        "    \"Bahamas\": \"The Bahamas\",\n",
        "    \"FNLA (Angola)*\": \"Angola\",\n",
        "    \"Cabo Verde\": \"Cape Verde\",\n",
        "    \"Timor-Leste\": \"East Timor\",\n",
        "    \"Saint Vincent\": \"Saint Vincent and the Grenadines\",\n",
        "    \"Guinea-Bissau\": \"Guinea Bissau\",\n",
        "    \"South Vietnam\": \"Vietnam\",  # Saigon is now Ho Chi Minh City\n",
        "    \"Viet Cong (South Vietnam)*\": \"Vietnam\",\n",
        "    \"Hamas (Palestine)*\": \"Palestine\",\n",
        "    \"Soviet Union\": \"Russia\",\n",
        "    \"NATO**\": \"Belgium\",  # NATO headquarters in Brussels\n",
        "    'European Union**': \"Belgium\",  # EU headquarters in Brussels\n",
        "    \"OSCE**\": \"Austria\",  # secretariat in Vienna\n",
        "    \"Yemen Arab Republic (North Yemen)\": \"Yemen\",  # same capital as Yemen (Sanaa)\n",
        "    \"North Yemen\": \"Yemen\",  # same capital as Yemen (Sanaa)\n",
        "    \"Czechoslovakia\": \"Czechia\",  # same capital as the modern Czech Republic (Prague)\n",
        "    \"Yugoslavia\": \"Serbia\",  # same capital as Serbia (Belgrade)\n",
        "    \"East Germany (GDR)\": \"Germany\",  # for large-scale flow maps, approximate East Berlin with Berlin\n",
        "    \"Western Sahara\": \"Morocco\",  # largely under Moroccan occupation,\n",
        "}\n",
        "\n",
        "exclude_flows = {\n",
        "    \"nan\",\n",
        "    \"unknown rebel group*\",\n",
        "    \"unknown recipient(s)\",\n",
        "    'unknown supplier(s)',\n",
        "    \"United Nations**\",\n",
        "    \"Regional Security System**\",\n",
        "    \"African Union**\",\n",
        "    '0.25',\n",
        "    '3',\n",
        "}\n",
        "\n",
        "# (long, lat) coordinates for capitals of entities not included in the places shapefile.\n",
        "# Several of these entities are countries that no longer exist.\n",
        "extra_capitals = {\n",
        "    \"Biafra\": (\"Enugu\", 7.5139, 6.4483),  # 1967 capital (now part of Nigeria)\n",
        "    \"Bosnia-Herzegovina\": (\"Sarajevo\", 18.4131, 43.8563),\n",
        "    \"South Yemen\": (\"Aden\", 45.0176, 12.7906),\n",
        "    \"Katanga\": (\"Lubumbashi\", 27.5026, -11.6876),\n",
        "    \"South Sudan\": (\"Juba\",  31.5825, 4.8539),\n",
        "    \"Palestine\": (\"East Jerusalem\", 35.217018, 31.771959),\n",
        "    \"Aruba\": (\"Oranjestad\", -70.0353, 12.5227),\n",
        "}"
      ]
    },
    {
      "cell_type": "code",
      "execution_count": 9,
      "id": "102e5fad-8ddd-4f63-8df0-843a235f03ae",
      "metadata": {
        "id": "102e5fad-8ddd-4f63-8df0-843a235f03ae"
      },
      "outputs": [],
      "source": [
        "# putting into geodataframe format\n",
        "extra_capitals_gdf = gpd.GeoDataFrame(\n",
        "    [\n",
        "        {\n",
        "            \"adm0name\": entity,\n",
        "            \"name\": capital,\n",
        "            \"longitude\": long,\n",
        "            \"latitude\": lat,\n",
        "            \"geometry\": Point(long, lat),\n",
        "        }\n",
        "        for entity, (capital, long, lat) in extra_capitals.items()\n",
        "    ],\n",
        "    crs=\"epsg:4326\",\n",
        ").set_index(\"adm0name\")"
      ]
    },
    {
      "cell_type": "code",
      "execution_count": 10,
      "id": "G-_9MuCqBGvi",
      "metadata": {
        "id": "G-_9MuCqBGvi"
      },
      "outputs": [],
      "source": [
        "# reading in simple shapefiles for visualizations\n",
        "places_gdf = gpd.read_file(\"https://naciscdn.org/naturalearth/110m/cultural/ne_110m_populated_places_simple.zip\")\n",
        "capitals_gdf = places_gdf[places_gdf[\"adm0cap\"] == 1].set_index(\"adm0name\")\n",
        "# force each nation to have exactly one capital\n",
        "capitals_gdf = capitals_gdf[~capitals_gdf[\"name\"].isin([\"Sucre\", \"Yamoussoukro\", \"Bloemfontein\", \"Pretoria\"])][[\"name\", \"latitude\", \"longitude\", \"geometry\"]]\n",
        "capitals_gdf = gpd.GeoDataFrame(pd.concat([capitals_gdf, extra_capitals_gdf]), crs=\"epsg:4326\")"
      ]
    },
    {
      "cell_type": "code",
      "source": [
        "flowmap_arms_df = arms_df[~arms_df[\"Supplier\"].isin(exclude_flows) & ~arms_df[\"Recipient\"].isin(exclude_flows)].rename(\n",
        "    columns={\n",
        "        \"Year of order\": \"order_year\",\n",
        "        \"Recipient\": \"recipient\",\n",
        "        \"Supplier\": \"supplier\",\n",
        "        \"SIPRI TIV for total order\": \"order_sipri_tiv\"\n",
        "    }\n",
        ")\n",
        "flowmap_arms_df[\"order_year\"] = flowmap_arms_df[\"order_year\"].astype(int)\n",
        "flowmap_arms_df = flowmap_arms_df[flowmap_arms_df[\"order_year\"] >= 1950]"
      ],
      "metadata": {
        "id": "2fUUueo-3v3Y"
      },
      "id": "2fUUueo-3v3Y",
      "execution_count": 14,
      "outputs": []
    },
    {
      "cell_type": "code",
      "source": [
        "orders_by_year_df = flowmap_arms_df.groupby([\"order_year\", \"recipient\", \"supplier\"]).sum()[\"order_sipri_tiv\"]\n",
        "orders_by_year_df"
      ],
      "metadata": {
        "id": "ZXW68Vgg4HA_",
        "outputId": "2213344c-6ed6-4719-a582-4c628aeecd36",
        "colab": {
          "base_uri": "https://localhost:8080/",
          "height": 489
        }
      },
      "id": "ZXW68Vgg4HA_",
      "execution_count": 17,
      "outputs": [
        {
          "output_type": "execute_result",
          "data": {
            "text/plain": [
              "order_year  recipient  supplier      \n",
              "1950        Argentina  United States     135.51\n",
              "            Australia  United Kingdom    337.68\n",
              "                       United States       0.60\n",
              "            Belgium    United Kingdom     78.00\n",
              "                       United States     756.12\n",
              "                                          ...  \n",
              "2023        Uruguay    Spain               0.00\n",
              "                       United States      12.72\n",
              "            Viet Nam   India              30.00\n",
              "            Zambia     United States      20.80\n",
              "            Zimbabwe   China              20.40\n",
              "Name: order_sipri_tiv, Length: 15215, dtype: float64"
            ],
            "text/html": [
              "<div>\n",
              "<style scoped>\n",
              "    .dataframe tbody tr th:only-of-type {\n",
              "        vertical-align: middle;\n",
              "    }\n",
              "\n",
              "    .dataframe tbody tr th {\n",
              "        vertical-align: top;\n",
              "    }\n",
              "\n",
              "    .dataframe thead th {\n",
              "        text-align: right;\n",
              "    }\n",
              "</style>\n",
              "<table border=\"1\" class=\"dataframe\">\n",
              "  <thead>\n",
              "    <tr style=\"text-align: right;\">\n",
              "      <th></th>\n",
              "      <th></th>\n",
              "      <th></th>\n",
              "      <th>order_sipri_tiv</th>\n",
              "    </tr>\n",
              "    <tr>\n",
              "      <th>order_year</th>\n",
              "      <th>recipient</th>\n",
              "      <th>supplier</th>\n",
              "      <th></th>\n",
              "    </tr>\n",
              "  </thead>\n",
              "  <tbody>\n",
              "    <tr>\n",
              "      <th rowspan=\"5\" valign=\"top\">1950</th>\n",
              "      <th>Argentina</th>\n",
              "      <th>United States</th>\n",
              "      <td>135.51</td>\n",
              "    </tr>\n",
              "    <tr>\n",
              "      <th rowspan=\"2\" valign=\"top\">Australia</th>\n",
              "      <th>United Kingdom</th>\n",
              "      <td>337.68</td>\n",
              "    </tr>\n",
              "    <tr>\n",
              "      <th>United States</th>\n",
              "      <td>0.60</td>\n",
              "    </tr>\n",
              "    <tr>\n",
              "      <th rowspan=\"2\" valign=\"top\">Belgium</th>\n",
              "      <th>United Kingdom</th>\n",
              "      <td>78.00</td>\n",
              "    </tr>\n",
              "    <tr>\n",
              "      <th>United States</th>\n",
              "      <td>756.12</td>\n",
              "    </tr>\n",
              "    <tr>\n",
              "      <th>...</th>\n",
              "      <th>...</th>\n",
              "      <th>...</th>\n",
              "      <td>...</td>\n",
              "    </tr>\n",
              "    <tr>\n",
              "      <th rowspan=\"5\" valign=\"top\">2023</th>\n",
              "      <th rowspan=\"2\" valign=\"top\">Uruguay</th>\n",
              "      <th>Spain</th>\n",
              "      <td>0.00</td>\n",
              "    </tr>\n",
              "    <tr>\n",
              "      <th>United States</th>\n",
              "      <td>12.72</td>\n",
              "    </tr>\n",
              "    <tr>\n",
              "      <th>Viet Nam</th>\n",
              "      <th>India</th>\n",
              "      <td>30.00</td>\n",
              "    </tr>\n",
              "    <tr>\n",
              "      <th>Zambia</th>\n",
              "      <th>United States</th>\n",
              "      <td>20.80</td>\n",
              "    </tr>\n",
              "    <tr>\n",
              "      <th>Zimbabwe</th>\n",
              "      <th>China</th>\n",
              "      <td>20.40</td>\n",
              "    </tr>\n",
              "  </tbody>\n",
              "</table>\n",
              "<p>15215 rows × 1 columns</p>\n",
              "</div><br><label><b>dtype:</b> float64</label>"
            ]
          },
          "metadata": {},
          "execution_count": 17
        }
      ]
    },
    {
      "cell_type": "markdown",
      "id": "MKeY3WeQ7VbN",
      "metadata": {
        "id": "MKeY3WeQ7VbN"
      },
      "source": [
        "## Integrating with FlowmapBlue"
      ]
    },
    {
      "cell_type": "markdown",
      "id": "jdFgp9tSQq2U",
      "metadata": {
        "id": "jdFgp9tSQq2U"
      },
      "source": [
        "Here, we load FlowmapBlue to create beautiful and interactive flowmaps. The steps are broadly similar to what you saw in Week 5. However, now we'll explore different ways that you can filter the data."
      ]
    },
    {
      "cell_type": "code",
      "execution_count": 11,
      "id": "618a031d-8d8f-4ec7-9a55-2d12a4482869",
      "metadata": {
        "colab": {
          "base_uri": "https://localhost:8080/"
        },
        "id": "618a031d-8d8f-4ec7-9a55-2d12a4482869",
        "outputId": "f72174f9-d769-497f-f295-b5340c3aa8ff"
      },
      "outputs": [
        {
          "output_type": "stream",
          "name": "stdout",
          "text": [
            "Collecting pubpol2130\n",
            "  Cloning https://github.com/PUBPOL-2130/notebooks to /tmp/pip-install-g2929aac/pubpol2130_959286f122de46a098450499be6deca7\n",
            "  Running command git clone --filter=blob:none --quiet https://github.com/PUBPOL-2130/notebooks /tmp/pip-install-g2929aac/pubpol2130_959286f122de46a098450499be6deca7\n",
            "  Resolved https://github.com/PUBPOL-2130/notebooks to commit 6cf590f1a0fca797352f11813aa55c035bc3df12\n",
            "  Preparing metadata (setup.py) ... \u001b[?25l\u001b[?25hdone\n",
            "Collecting census>=0.8.19 (from pubpol2130)\n",
            "  Downloading census-0.8.23-py3-none-any.whl.metadata (8.1 kB)\n",
            "Collecting us>=2.0.2 (from pubpol2130)\n",
            "  Downloading us-3.2.0-py3-none-any.whl.metadata (10 kB)\n",
            "Collecting pandas>=2.2.3 (from pubpol2130)\n",
            "  Downloading pandas-2.2.3-cp311-cp311-manylinux_2_17_x86_64.manylinux2014_x86_64.whl.metadata (89 kB)\n",
            "\u001b[2K     \u001b[90m━━━━━━━━━━━━━━━━━━━━━━━━━━━━━━━━━━━━━━━━\u001b[0m \u001b[32m89.9/89.9 kB\u001b[0m \u001b[31m5.4 MB/s\u001b[0m eta \u001b[36m0:00:00\u001b[0m\n",
            "\u001b[?25hCollecting gspread_pandas>=3.3.0 (from pubpol2130)\n",
            "  Downloading gspread_pandas-3.3.0-py2.py3-none-any.whl.metadata (10 kB)\n",
            "Requirement already satisfied: tqdm>=4.0.0 in /usr/local/lib/python3.11/dist-packages (from pubpol2130) (4.67.1)\n",
            "Requirement already satisfied: requests>=1.1.0 in /usr/local/lib/python3.11/dist-packages (from census>=0.8.19->pubpol2130) (2.32.3)\n",
            "Collecting gspread<6,>=5.0.0 (from gspread_pandas>=3.3.0->pubpol2130)\n",
            "  Downloading gspread-5.12.4-py3-none-any.whl.metadata (8.8 kB)\n",
            "Requirement already satisfied: decorator in /usr/local/lib/python3.11/dist-packages (from gspread_pandas>=3.3.0->pubpol2130) (4.4.2)\n",
            "Requirement already satisfied: google-auth in /usr/local/lib/python3.11/dist-packages (from gspread_pandas>=3.3.0->pubpol2130) (2.27.0)\n",
            "Requirement already satisfied: google-auth-oauthlib in /usr/local/lib/python3.11/dist-packages (from gspread_pandas>=3.3.0->pubpol2130) (1.2.1)\n",
            "Requirement already satisfied: numpy>=1.23.2 in /usr/local/lib/python3.11/dist-packages (from pandas>=2.2.3->pubpol2130) (1.26.4)\n",
            "Requirement already satisfied: python-dateutil>=2.8.2 in /usr/local/lib/python3.11/dist-packages (from pandas>=2.2.3->pubpol2130) (2.8.2)\n",
            "Requirement already satisfied: pytz>=2020.1 in /usr/local/lib/python3.11/dist-packages (from pandas>=2.2.3->pubpol2130) (2025.1)\n",
            "Requirement already satisfied: tzdata>=2022.7 in /usr/local/lib/python3.11/dist-packages (from pandas>=2.2.3->pubpol2130) (2025.1)\n",
            "Requirement already satisfied: jellyfish in /usr/local/lib/python3.11/dist-packages (from us>=2.0.2->pubpol2130) (1.1.0)\n",
            "Requirement already satisfied: cachetools<6.0,>=2.0.0 in /usr/local/lib/python3.11/dist-packages (from google-auth->gspread_pandas>=3.3.0->pubpol2130) (5.5.2)\n",
            "Requirement already satisfied: pyasn1-modules>=0.2.1 in /usr/local/lib/python3.11/dist-packages (from google-auth->gspread_pandas>=3.3.0->pubpol2130) (0.4.1)\n",
            "Requirement already satisfied: rsa<5,>=3.1.4 in /usr/local/lib/python3.11/dist-packages (from google-auth->gspread_pandas>=3.3.0->pubpol2130) (4.9)\n",
            "Requirement already satisfied: requests-oauthlib>=0.7.0 in /usr/local/lib/python3.11/dist-packages (from google-auth-oauthlib->gspread_pandas>=3.3.0->pubpol2130) (2.0.0)\n",
            "Requirement already satisfied: six>=1.5 in /usr/local/lib/python3.11/dist-packages (from python-dateutil>=2.8.2->pandas>=2.2.3->pubpol2130) (1.17.0)\n",
            "Requirement already satisfied: charset-normalizer<4,>=2 in /usr/local/lib/python3.11/dist-packages (from requests>=1.1.0->census>=0.8.19->pubpol2130) (3.4.1)\n",
            "Requirement already satisfied: idna<4,>=2.5 in /usr/local/lib/python3.11/dist-packages (from requests>=1.1.0->census>=0.8.19->pubpol2130) (3.10)\n",
            "Requirement already satisfied: urllib3<3,>=1.21.1 in /usr/local/lib/python3.11/dist-packages (from requests>=1.1.0->census>=0.8.19->pubpol2130) (2.3.0)\n",
            "Requirement already satisfied: certifi>=2017.4.17 in /usr/local/lib/python3.11/dist-packages (from requests>=1.1.0->census>=0.8.19->pubpol2130) (2025.1.31)\n",
            "Requirement already satisfied: pyasn1<0.7.0,>=0.4.6 in /usr/local/lib/python3.11/dist-packages (from pyasn1-modules>=0.2.1->google-auth->gspread_pandas>=3.3.0->pubpol2130) (0.6.1)\n",
            "Requirement already satisfied: oauthlib>=3.0.0 in /usr/local/lib/python3.11/dist-packages (from requests-oauthlib>=0.7.0->google-auth-oauthlib->gspread_pandas>=3.3.0->pubpol2130) (3.2.2)\n",
            "Downloading census-0.8.23-py3-none-any.whl (11 kB)\n",
            "Downloading gspread_pandas-3.3.0-py2.py3-none-any.whl (27 kB)\n",
            "Downloading pandas-2.2.3-cp311-cp311-manylinux_2_17_x86_64.manylinux2014_x86_64.whl (13.1 MB)\n",
            "\u001b[2K   \u001b[90m━━━━━━━━━━━━━━━━━━━━━━━━━━━━━━━━━━━━━━━━\u001b[0m \u001b[32m13.1/13.1 MB\u001b[0m \u001b[31m40.2 MB/s\u001b[0m eta \u001b[36m0:00:00\u001b[0m\n",
            "\u001b[?25hDownloading us-3.2.0-py3-none-any.whl (13 kB)\n",
            "Downloading gspread-5.12.4-py3-none-any.whl (49 kB)\n",
            "\u001b[2K   \u001b[90m━━━━━━━━━━━━━━━━━━━━━━━━━━━━━━━━━━━━━━━━\u001b[0m \u001b[32m49.5/49.5 kB\u001b[0m \u001b[31m2.8 MB/s\u001b[0m eta \u001b[36m0:00:00\u001b[0m\n",
            "\u001b[?25hBuilding wheels for collected packages: pubpol2130\n",
            "  Building wheel for pubpol2130 (setup.py) ... \u001b[?25l\u001b[?25hdone\n",
            "  Created wheel for pubpol2130: filename=pubpol2130-0.0.1-py3-none-any.whl size=3747 sha256=d7b8e2a2c23e183ad2a63a7eae7b551feede1c8b92f40a665bd35443f1bacc79\n",
            "  Stored in directory: /tmp/pip-ephem-wheel-cache-ucdadc93/wheels/de/36/19/875166503c3cbba368f467c40c5c908e90c21dca2f0b11f71e\n",
            "Successfully built pubpol2130\n",
            "Installing collected packages: us, pandas, census, gspread, gspread_pandas, pubpol2130\n",
            "  Attempting uninstall: pandas\n",
            "    Found existing installation: pandas 2.2.2\n",
            "    Uninstalling pandas-2.2.2:\n",
            "      Successfully uninstalled pandas-2.2.2\n",
            "  Attempting uninstall: gspread\n",
            "    Found existing installation: gspread 6.1.4\n",
            "    Uninstalling gspread-6.1.4:\n",
            "      Successfully uninstalled gspread-6.1.4\n",
            "\u001b[31mERROR: pip's dependency resolver does not currently take into account all the packages that are installed. This behaviour is the source of the following dependency conflicts.\n",
            "google-colab 1.0.0 requires pandas==2.2.2, but you have pandas 2.2.3 which is incompatible.\u001b[0m\u001b[31m\n",
            "\u001b[0mSuccessfully installed census-0.8.23 gspread-5.12.4 gspread_pandas-3.3.0 pandas-2.2.3 pubpol2130-0.0.1 us-3.2.0\n"
          ]
        }
      ],
      "source": [
        "!pip install \"git+https://github.com/PUBPOL-2130/notebooks#egg=pubpol2130&subdirectory=lib\""
      ]
    },
    {
      "cell_type": "markdown",
      "id": "HKGepJ8TgXCb",
      "metadata": {
        "id": "HKGepJ8TgXCb"
      },
      "source": [
        "This line will pop up a dialog asking for permission to generate Google Sheets credentials using your Google login.  If you're doing this in Colab, it should be particularly seamless."
      ]
    },
    {
      "cell_type": "code",
      "execution_count": 12,
      "id": "21cd7541-d5d8-4f9a-8b35-47f0f8741b7e",
      "metadata": {
        "id": "21cd7541-d5d8-4f9a-8b35-47f0f8741b7e"
      },
      "outputs": [],
      "source": [
        "from pubpol2130 import google_sheets_credentials, generate_flow_sheet"
      ]
    },
    {
      "cell_type": "code",
      "execution_count": 15,
      "id": "79X9WVImGyj2",
      "metadata": {
        "colab": {
          "base_uri": "https://localhost:8080/",
          "height": 206
        },
        "id": "79X9WVImGyj2",
        "outputId": "6418078e-da08-4295-96e2-e3221defbcea"
      },
      "outputs": [
        {
          "output_type": "execute_result",
          "data": {
            "text/plain": [
              "            id         name        lat        lon\n",
              "0  Netherlands  Netherlands  52.351915   4.914694\n",
              "1        Congo        Congo  -4.257240  15.282744\n",
              "2     eSwatini     eSwatini -26.316651  31.133335\n",
              "3        Haiti        Haiti  18.542971 -72.337980\n",
              "4     Maldives     Maldives   4.166708  73.499948"
            ],
            "text/html": [
              "\n",
              "  <div id=\"df-7689dd54-e286-4765-9b16-b013b3b7e585\" class=\"colab-df-container\">\n",
              "    <div>\n",
              "<style scoped>\n",
              "    .dataframe tbody tr th:only-of-type {\n",
              "        vertical-align: middle;\n",
              "    }\n",
              "\n",
              "    .dataframe tbody tr th {\n",
              "        vertical-align: top;\n",
              "    }\n",
              "\n",
              "    .dataframe thead th {\n",
              "        text-align: right;\n",
              "    }\n",
              "</style>\n",
              "<table border=\"1\" class=\"dataframe\">\n",
              "  <thead>\n",
              "    <tr style=\"text-align: right;\">\n",
              "      <th></th>\n",
              "      <th>id</th>\n",
              "      <th>name</th>\n",
              "      <th>lat</th>\n",
              "      <th>lon</th>\n",
              "    </tr>\n",
              "  </thead>\n",
              "  <tbody>\n",
              "    <tr>\n",
              "      <th>0</th>\n",
              "      <td>Netherlands</td>\n",
              "      <td>Netherlands</td>\n",
              "      <td>52.351915</td>\n",
              "      <td>4.914694</td>\n",
              "    </tr>\n",
              "    <tr>\n",
              "      <th>1</th>\n",
              "      <td>Congo</td>\n",
              "      <td>Congo</td>\n",
              "      <td>-4.257240</td>\n",
              "      <td>15.282744</td>\n",
              "    </tr>\n",
              "    <tr>\n",
              "      <th>2</th>\n",
              "      <td>eSwatini</td>\n",
              "      <td>eSwatini</td>\n",
              "      <td>-26.316651</td>\n",
              "      <td>31.133335</td>\n",
              "    </tr>\n",
              "    <tr>\n",
              "      <th>3</th>\n",
              "      <td>Haiti</td>\n",
              "      <td>Haiti</td>\n",
              "      <td>18.542971</td>\n",
              "      <td>-72.337980</td>\n",
              "    </tr>\n",
              "    <tr>\n",
              "      <th>4</th>\n",
              "      <td>Maldives</td>\n",
              "      <td>Maldives</td>\n",
              "      <td>4.166708</td>\n",
              "      <td>73.499948</td>\n",
              "    </tr>\n",
              "  </tbody>\n",
              "</table>\n",
              "</div>\n",
              "    <div class=\"colab-df-buttons\">\n",
              "\n",
              "  <div class=\"colab-df-container\">\n",
              "    <button class=\"colab-df-convert\" onclick=\"convertToInteractive('df-7689dd54-e286-4765-9b16-b013b3b7e585')\"\n",
              "            title=\"Convert this dataframe to an interactive table.\"\n",
              "            style=\"display:none;\">\n",
              "\n",
              "  <svg xmlns=\"http://www.w3.org/2000/svg\" height=\"24px\" viewBox=\"0 -960 960 960\">\n",
              "    <path d=\"M120-120v-720h720v720H120Zm60-500h600v-160H180v160Zm220 220h160v-160H400v160Zm0 220h160v-160H400v160ZM180-400h160v-160H180v160Zm440 0h160v-160H620v160ZM180-180h160v-160H180v160Zm440 0h160v-160H620v160Z\"/>\n",
              "  </svg>\n",
              "    </button>\n",
              "\n",
              "  <style>\n",
              "    .colab-df-container {\n",
              "      display:flex;\n",
              "      gap: 12px;\n",
              "    }\n",
              "\n",
              "    .colab-df-convert {\n",
              "      background-color: #E8F0FE;\n",
              "      border: none;\n",
              "      border-radius: 50%;\n",
              "      cursor: pointer;\n",
              "      display: none;\n",
              "      fill: #1967D2;\n",
              "      height: 32px;\n",
              "      padding: 0 0 0 0;\n",
              "      width: 32px;\n",
              "    }\n",
              "\n",
              "    .colab-df-convert:hover {\n",
              "      background-color: #E2EBFA;\n",
              "      box-shadow: 0px 1px 2px rgba(60, 64, 67, 0.3), 0px 1px 3px 1px rgba(60, 64, 67, 0.15);\n",
              "      fill: #174EA6;\n",
              "    }\n",
              "\n",
              "    .colab-df-buttons div {\n",
              "      margin-bottom: 4px;\n",
              "    }\n",
              "\n",
              "    [theme=dark] .colab-df-convert {\n",
              "      background-color: #3B4455;\n",
              "      fill: #D2E3FC;\n",
              "    }\n",
              "\n",
              "    [theme=dark] .colab-df-convert:hover {\n",
              "      background-color: #434B5C;\n",
              "      box-shadow: 0px 1px 3px 1px rgba(0, 0, 0, 0.15);\n",
              "      filter: drop-shadow(0px 1px 2px rgba(0, 0, 0, 0.3));\n",
              "      fill: #FFFFFF;\n",
              "    }\n",
              "  </style>\n",
              "\n",
              "    <script>\n",
              "      const buttonEl =\n",
              "        document.querySelector('#df-7689dd54-e286-4765-9b16-b013b3b7e585 button.colab-df-convert');\n",
              "      buttonEl.style.display =\n",
              "        google.colab.kernel.accessAllowed ? 'block' : 'none';\n",
              "\n",
              "      async function convertToInteractive(key) {\n",
              "        const element = document.querySelector('#df-7689dd54-e286-4765-9b16-b013b3b7e585');\n",
              "        const dataTable =\n",
              "          await google.colab.kernel.invokeFunction('convertToInteractive',\n",
              "                                                    [key], {});\n",
              "        if (!dataTable) return;\n",
              "\n",
              "        const docLinkHtml = 'Like what you see? Visit the ' +\n",
              "          '<a target=\"_blank\" href=https://colab.research.google.com/notebooks/data_table.ipynb>data table notebook</a>'\n",
              "          + ' to learn more about interactive tables.';\n",
              "        element.innerHTML = '';\n",
              "        dataTable['output_type'] = 'display_data';\n",
              "        await google.colab.output.renderOutput(dataTable, element);\n",
              "        const docLink = document.createElement('div');\n",
              "        docLink.innerHTML = docLinkHtml;\n",
              "        element.appendChild(docLink);\n",
              "      }\n",
              "    </script>\n",
              "  </div>\n",
              "\n",
              "\n",
              "<div id=\"df-9a786aae-d3b5-4b88-9ec4-32c86dec32a2\">\n",
              "  <button class=\"colab-df-quickchart\" onclick=\"quickchart('df-9a786aae-d3b5-4b88-9ec4-32c86dec32a2')\"\n",
              "            title=\"Suggest charts\"\n",
              "            style=\"display:none;\">\n",
              "\n",
              "<svg xmlns=\"http://www.w3.org/2000/svg\" height=\"24px\"viewBox=\"0 0 24 24\"\n",
              "     width=\"24px\">\n",
              "    <g>\n",
              "        <path d=\"M19 3H5c-1.1 0-2 .9-2 2v14c0 1.1.9 2 2 2h14c1.1 0 2-.9 2-2V5c0-1.1-.9-2-2-2zM9 17H7v-7h2v7zm4 0h-2V7h2v10zm4 0h-2v-4h2v4z\"/>\n",
              "    </g>\n",
              "</svg>\n",
              "  </button>\n",
              "\n",
              "<style>\n",
              "  .colab-df-quickchart {\n",
              "      --bg-color: #E8F0FE;\n",
              "      --fill-color: #1967D2;\n",
              "      --hover-bg-color: #E2EBFA;\n",
              "      --hover-fill-color: #174EA6;\n",
              "      --disabled-fill-color: #AAA;\n",
              "      --disabled-bg-color: #DDD;\n",
              "  }\n",
              "\n",
              "  [theme=dark] .colab-df-quickchart {\n",
              "      --bg-color: #3B4455;\n",
              "      --fill-color: #D2E3FC;\n",
              "      --hover-bg-color: #434B5C;\n",
              "      --hover-fill-color: #FFFFFF;\n",
              "      --disabled-bg-color: #3B4455;\n",
              "      --disabled-fill-color: #666;\n",
              "  }\n",
              "\n",
              "  .colab-df-quickchart {\n",
              "    background-color: var(--bg-color);\n",
              "    border: none;\n",
              "    border-radius: 50%;\n",
              "    cursor: pointer;\n",
              "    display: none;\n",
              "    fill: var(--fill-color);\n",
              "    height: 32px;\n",
              "    padding: 0;\n",
              "    width: 32px;\n",
              "  }\n",
              "\n",
              "  .colab-df-quickchart:hover {\n",
              "    background-color: var(--hover-bg-color);\n",
              "    box-shadow: 0 1px 2px rgba(60, 64, 67, 0.3), 0 1px 3px 1px rgba(60, 64, 67, 0.15);\n",
              "    fill: var(--button-hover-fill-color);\n",
              "  }\n",
              "\n",
              "  .colab-df-quickchart-complete:disabled,\n",
              "  .colab-df-quickchart-complete:disabled:hover {\n",
              "    background-color: var(--disabled-bg-color);\n",
              "    fill: var(--disabled-fill-color);\n",
              "    box-shadow: none;\n",
              "  }\n",
              "\n",
              "  .colab-df-spinner {\n",
              "    border: 2px solid var(--fill-color);\n",
              "    border-color: transparent;\n",
              "    border-bottom-color: var(--fill-color);\n",
              "    animation:\n",
              "      spin 1s steps(1) infinite;\n",
              "  }\n",
              "\n",
              "  @keyframes spin {\n",
              "    0% {\n",
              "      border-color: transparent;\n",
              "      border-bottom-color: var(--fill-color);\n",
              "      border-left-color: var(--fill-color);\n",
              "    }\n",
              "    20% {\n",
              "      border-color: transparent;\n",
              "      border-left-color: var(--fill-color);\n",
              "      border-top-color: var(--fill-color);\n",
              "    }\n",
              "    30% {\n",
              "      border-color: transparent;\n",
              "      border-left-color: var(--fill-color);\n",
              "      border-top-color: var(--fill-color);\n",
              "      border-right-color: var(--fill-color);\n",
              "    }\n",
              "    40% {\n",
              "      border-color: transparent;\n",
              "      border-right-color: var(--fill-color);\n",
              "      border-top-color: var(--fill-color);\n",
              "    }\n",
              "    60% {\n",
              "      border-color: transparent;\n",
              "      border-right-color: var(--fill-color);\n",
              "    }\n",
              "    80% {\n",
              "      border-color: transparent;\n",
              "      border-right-color: var(--fill-color);\n",
              "      border-bottom-color: var(--fill-color);\n",
              "    }\n",
              "    90% {\n",
              "      border-color: transparent;\n",
              "      border-bottom-color: var(--fill-color);\n",
              "    }\n",
              "  }\n",
              "</style>\n",
              "\n",
              "  <script>\n",
              "    async function quickchart(key) {\n",
              "      const quickchartButtonEl =\n",
              "        document.querySelector('#' + key + ' button');\n",
              "      quickchartButtonEl.disabled = true;  // To prevent multiple clicks.\n",
              "      quickchartButtonEl.classList.add('colab-df-spinner');\n",
              "      try {\n",
              "        const charts = await google.colab.kernel.invokeFunction(\n",
              "            'suggestCharts', [key], {});\n",
              "      } catch (error) {\n",
              "        console.error('Error during call to suggestCharts:', error);\n",
              "      }\n",
              "      quickchartButtonEl.classList.remove('colab-df-spinner');\n",
              "      quickchartButtonEl.classList.add('colab-df-quickchart-complete');\n",
              "    }\n",
              "    (() => {\n",
              "      let quickchartButtonEl =\n",
              "        document.querySelector('#df-9a786aae-d3b5-4b88-9ec4-32c86dec32a2 button');\n",
              "      quickchartButtonEl.style.display =\n",
              "        google.colab.kernel.accessAllowed ? 'block' : 'none';\n",
              "    })();\n",
              "  </script>\n",
              "</div>\n",
              "\n",
              "    </div>\n",
              "  </div>\n"
            ],
            "application/vnd.google.colaboratory.intrinsic+json": {
              "type": "dataframe",
              "variable_name": "flowmap_locations_df",
              "summary": "{\n  \"name\": \"flowmap_locations_df\",\n  \"rows\": 246,\n  \"fields\": [\n    {\n      \"column\": \"id\",\n      \"properties\": {\n        \"dtype\": \"string\",\n        \"num_unique_values\": 246,\n        \"samples\": [\n          \"Houthi rebels (Yemen)*\",\n          \"Indonesia rebels*\",\n          \"Cameroon\"\n        ],\n        \"semantic_type\": \"\",\n        \"description\": \"\"\n      }\n    },\n    {\n      \"column\": \"name\",\n      \"properties\": {\n        \"dtype\": \"string\",\n        \"num_unique_values\": 246,\n        \"samples\": [\n          \"Houthi rebels (Yemen)*\",\n          \"Indonesia rebels*\",\n          \"Cameroon\"\n        ],\n        \"semantic_type\": \"\",\n        \"description\": \"\"\n      }\n    },\n    {\n      \"column\": \"lat\",\n      \"properties\": {\n        \"dtype\": \"number\",\n        \"std\": 23.402898280690412,\n        \"min\": -41.299988,\n        \"max\": 64.150024,\n        \"num_unique_values\": 192,\n        \"samples\": [\n          15.590024,\n          -8.559388,\n          -6.798067\n        ],\n        \"semantic_type\": \"\",\n        \"description\": \"\"\n      }\n    },\n    {\n      \"column\": \"lon\",\n      \"properties\": {\n        \"dtype\": \"number\",\n        \"std\": 62.40198914609067,\n        \"min\": -175.220565,\n        \"max\": 179.216647,\n        \"num_unique_values\": 192,\n        \"samples\": [\n          32.532233,\n          125.579456,\n          39.266396\n        ],\n        \"semantic_type\": \"\",\n        \"description\": \"\"\n      }\n    }\n  ]\n}"
            }
          },
          "metadata": {},
          "execution_count": 15
        }
      ],
      "source": [
        "flowmap_locations_df = pd.DataFrame(\n",
        "    [\n",
        "        {\n",
        "            \"id\": loc,\n",
        "            \"name\": loc,\n",
        "            \"lat\": capitals_gdf.loc[capitals_map.get(loc, loc), \"latitude\"],\n",
        "            \"lon\": capitals_gdf.loc[capitals_map.get(loc, loc), \"longitude\"],\n",
        "        }\n",
        "        for loc in set(flowmap_arms_df[\"supplier\"]) | set(flowmap_arms_df[\"recipient\"])\n",
        "    ]\n",
        ")\n",
        "# we can visualize the first five rows of our location data\n",
        "flowmap_locations_df.head(5)"
      ]
    },
    {
      "cell_type": "code",
      "source": [
        "orders_by_year_df"
      ],
      "metadata": {
        "id": "DeMATUA94DFo",
        "outputId": "b5eb4578-116a-4455-f01b-d9174b4a1f7a",
        "colab": {
          "base_uri": "https://localhost:8080/",
          "height": 489
        }
      },
      "id": "DeMATUA94DFo",
      "execution_count": 18,
      "outputs": [
        {
          "output_type": "execute_result",
          "data": {
            "text/plain": [
              "order_year  recipient  supplier      \n",
              "1950        Argentina  United States     135.51\n",
              "            Australia  United Kingdom    337.68\n",
              "                       United States       0.60\n",
              "            Belgium    United Kingdom     78.00\n",
              "                       United States     756.12\n",
              "                                          ...  \n",
              "2023        Uruguay    Spain               0.00\n",
              "                       United States      12.72\n",
              "            Viet Nam   India              30.00\n",
              "            Zambia     United States      20.80\n",
              "            Zimbabwe   China              20.40\n",
              "Name: order_sipri_tiv, Length: 15215, dtype: float64"
            ],
            "text/html": [
              "<div>\n",
              "<style scoped>\n",
              "    .dataframe tbody tr th:only-of-type {\n",
              "        vertical-align: middle;\n",
              "    }\n",
              "\n",
              "    .dataframe tbody tr th {\n",
              "        vertical-align: top;\n",
              "    }\n",
              "\n",
              "    .dataframe thead th {\n",
              "        text-align: right;\n",
              "    }\n",
              "</style>\n",
              "<table border=\"1\" class=\"dataframe\">\n",
              "  <thead>\n",
              "    <tr style=\"text-align: right;\">\n",
              "      <th></th>\n",
              "      <th></th>\n",
              "      <th></th>\n",
              "      <th>order_sipri_tiv</th>\n",
              "    </tr>\n",
              "    <tr>\n",
              "      <th>order_year</th>\n",
              "      <th>recipient</th>\n",
              "      <th>supplier</th>\n",
              "      <th></th>\n",
              "    </tr>\n",
              "  </thead>\n",
              "  <tbody>\n",
              "    <tr>\n",
              "      <th rowspan=\"5\" valign=\"top\">1950</th>\n",
              "      <th>Argentina</th>\n",
              "      <th>United States</th>\n",
              "      <td>135.51</td>\n",
              "    </tr>\n",
              "    <tr>\n",
              "      <th rowspan=\"2\" valign=\"top\">Australia</th>\n",
              "      <th>United Kingdom</th>\n",
              "      <td>337.68</td>\n",
              "    </tr>\n",
              "    <tr>\n",
              "      <th>United States</th>\n",
              "      <td>0.60</td>\n",
              "    </tr>\n",
              "    <tr>\n",
              "      <th rowspan=\"2\" valign=\"top\">Belgium</th>\n",
              "      <th>United Kingdom</th>\n",
              "      <td>78.00</td>\n",
              "    </tr>\n",
              "    <tr>\n",
              "      <th>United States</th>\n",
              "      <td>756.12</td>\n",
              "    </tr>\n",
              "    <tr>\n",
              "      <th>...</th>\n",
              "      <th>...</th>\n",
              "      <th>...</th>\n",
              "      <td>...</td>\n",
              "    </tr>\n",
              "    <tr>\n",
              "      <th rowspan=\"5\" valign=\"top\">2023</th>\n",
              "      <th rowspan=\"2\" valign=\"top\">Uruguay</th>\n",
              "      <th>Spain</th>\n",
              "      <td>0.00</td>\n",
              "    </tr>\n",
              "    <tr>\n",
              "      <th>United States</th>\n",
              "      <td>12.72</td>\n",
              "    </tr>\n",
              "    <tr>\n",
              "      <th>Viet Nam</th>\n",
              "      <th>India</th>\n",
              "      <td>30.00</td>\n",
              "    </tr>\n",
              "    <tr>\n",
              "      <th>Zambia</th>\n",
              "      <th>United States</th>\n",
              "      <td>20.80</td>\n",
              "    </tr>\n",
              "    <tr>\n",
              "      <th>Zimbabwe</th>\n",
              "      <th>China</th>\n",
              "      <td>20.40</td>\n",
              "    </tr>\n",
              "  </tbody>\n",
              "</table>\n",
              "<p>15215 rows × 1 columns</p>\n",
              "</div><br><label><b>dtype:</b> float64</label>"
            ]
          },
          "metadata": {},
          "execution_count": 18
        }
      ]
    },
    {
      "cell_type": "code",
      "execution_count": null,
      "id": "d7a72881-9b68-42b4-8155-22ca29d7f387",
      "metadata": {
        "id": "d7a72881-9b68-42b4-8155-22ca29d7f387"
      },
      "outputs": [],
      "source": [
        "sheet_creds = google_sheets_credentials()"
      ]
    },
    {
      "cell_type": "code",
      "execution_count": null,
      "id": "W1gzHp_7GKGa",
      "metadata": {
        "id": "W1gzHp_7GKGa"
      },
      "outputs": [],
      "source": [
        "flow_sheet = generate_flow_sheet(\n",
        "    sheet_creds=sheet_creds,\n",
        "    locations_df=flowmap_locations_df,\n",
        "    created_by_name=\"\",  # YOUR NAME HERE\n",
        "    created_by_email=\"\", # YOUR EMAIL HERE\n",
        "    data_source_name=\"SIPRI Arms Transfers Database\",\n",
        "    data_source_url=\"https://www.sipri.org/databases/armstransfers\",\n",
        "    incoming_tooltip=\"Inbound arms transfers (TIV)\",\n",
        "    outgoing_tooltip=\"Outbound arms transfers (TIV)\",\n",
        "    flow_tooltip=\"Arms transfer (TIV)\",\n",
        "    total_unit=\"TIVs\",\n",
        "    sheet_title=\"PUBPOL 2130: SIPRI arms transfers (orders over time)\",\n",
        "    flow_title=\"SIPRI Arms Transfers Database: orders over time\",\n",
        "    flows={\n",
        "        f\"Year: {year}\": year_df.reset_index().rename(columns={\n",
        "            \"supplier\": \"origin\",\n",
        "            \"recipient\": \"dest\",\n",
        "            \"order_sipri_tiv\": \"count\",\n",
        "        })\n",
        "        for year, year_df in orders_by_year_df.groupby(level=0)\n",
        "    }\n",
        ")"
      ]
    },
    {
      "cell_type": "code",
      "execution_count": null,
      "id": "0bc235d2-56d4-4009-8dd6-ecfce9909b3c",
      "metadata": {
        "id": "0bc235d2-56d4-4009-8dd6-ecfce9909b3c"
      },
      "outputs": [],
      "source": [
        "print(flow_sheet.url)"
      ]
    },
    {
      "cell_type": "code",
      "execution_count": null,
      "id": "d1e048a9-4fc8-43fb-8bfa-3ecc2140c44d",
      "metadata": {
        "id": "d1e048a9-4fc8-43fb-8bfa-3ecc2140c44d"
      },
      "outputs": [],
      "source": [
        "print(f\"https://www.flowmap.blue/{flow_sheet.url.split('/')[-1]}\")"
      ]
    },
    {
      "cell_type": "markdown",
      "id": "0MdeYNGYiLu7",
      "metadata": {
        "id": "0MdeYNGYiLu7"
      },
      "source": [
        "#Homework 4, due Tuesday March 4, 1:25pm\n",
        "\n",
        "Your homework this week starts with creating a flowmap.  Then you should (1) choose a question about arms flows, (2) read a SIPRI background paper connected to that topic, and (3) make a data product (typically a plot, like in previous weeks) to illustrate a key fact of your choice.\n",
        "\n",
        "To access SIPRI's background papers, go to their [publications page](https://www.sipri.org/publications) and put \"SIPRI background papers\" in the publication type, and use the keyword to get closer to your topic.  (Note that most of these are regional rather than related to particular weapons.)"
      ]
    }
  ],
  "metadata": {
    "colab": {
      "provenance": [],
      "include_colab_link": true
    },
    "kernelspec": {
      "display_name": "Python 3 (ipykernel)",
      "language": "python",
      "name": "python3"
    },
    "language_info": {
      "codemirror_mode": {
        "name": "ipython",
        "version": 3
      },
      "file_extension": ".py",
      "mimetype": "text/x-python",
      "name": "python",
      "nbconvert_exporter": "python",
      "pygments_lexer": "ipython3",
      "version": "3.13.0"
    }
  },
  "nbformat": 4,
  "nbformat_minor": 5
}